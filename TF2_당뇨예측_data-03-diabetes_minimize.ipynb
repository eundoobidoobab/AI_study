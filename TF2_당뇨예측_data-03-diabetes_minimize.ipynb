{
 "cells": [
  {
   "cell_type": "code",
   "execution_count": 1,
   "id": "3e8201fc-72f3-4a52-8c4e-2feaf3146acd",
   "metadata": {},
   "outputs": [
    {
     "ename": "FileNotFoundError",
     "evalue": "data-03-diabetes.csv not found.",
     "output_type": "error",
     "traceback": [
      "\u001b[1;31m---------------------------------------------------------------------------\u001b[0m",
      "\u001b[1;31mFileNotFoundError\u001b[0m                         Traceback (most recent call last)",
      "Cell \u001b[1;32mIn[1], line 9\u001b[0m\n\u001b[0;32m      6\u001b[0m \u001b[38;5;28;01mimport\u001b[39;00m \u001b[38;5;21;01mmatplotlib\u001b[39;00m\u001b[38;5;21;01m.\u001b[39;00m\u001b[38;5;21;01mpyplot\u001b[39;00m \u001b[38;5;28;01mas\u001b[39;00m \u001b[38;5;21;01mplt\u001b[39;00m\n\u001b[0;32m      8\u001b[0m \u001b[38;5;66;03m# 당뇨병 데이터 읽어오기\u001b[39;00m\n\u001b[1;32m----> 9\u001b[0m xy \u001b[38;5;241m=\u001b[39m np\u001b[38;5;241m.\u001b[39mloadtxt(\u001b[38;5;124m'\u001b[39m\u001b[38;5;124mdata-03-diabetes.csv\u001b[39m\u001b[38;5;124m'\u001b[39m, delimiter\u001b[38;5;241m=\u001b[39m\u001b[38;5;124m'\u001b[39m\u001b[38;5;124m,\u001b[39m\u001b[38;5;124m'\u001b[39m, dtype\u001b[38;5;241m=\u001b[39mnp\u001b[38;5;241m.\u001b[39mfloat32)\n\u001b[0;32m     10\u001b[0m \u001b[38;5;66;03m# xy = np.loadtxt('/content/drive/MyDrive/Colab Notebooks/data-03-diabetes.csv', delimiter=',', dtype=np.float32)\u001b[39;00m\n\u001b[0;32m     11\u001b[0m x_data \u001b[38;5;241m=\u001b[39m xy[:, \u001b[38;5;241m0\u001b[39m:\u001b[38;5;241m-\u001b[39m\u001b[38;5;241m1\u001b[39m]     \u001b[38;5;66;03m## 0~7열 까지 총 8개 x값\u001b[39;00m\n",
      "File \u001b[1;32m~\\anaconda3\\Lib\\site-packages\\numpy\\lib\\npyio.py:1356\u001b[0m, in \u001b[0;36mloadtxt\u001b[1;34m(fname, dtype, comments, delimiter, converters, skiprows, usecols, unpack, ndmin, encoding, max_rows, quotechar, like)\u001b[0m\n\u001b[0;32m   1353\u001b[0m \u001b[38;5;28;01mif\u001b[39;00m \u001b[38;5;28misinstance\u001b[39m(delimiter, \u001b[38;5;28mbytes\u001b[39m):\n\u001b[0;32m   1354\u001b[0m     delimiter \u001b[38;5;241m=\u001b[39m delimiter\u001b[38;5;241m.\u001b[39mdecode(\u001b[38;5;124m'\u001b[39m\u001b[38;5;124mlatin1\u001b[39m\u001b[38;5;124m'\u001b[39m)\n\u001b[1;32m-> 1356\u001b[0m arr \u001b[38;5;241m=\u001b[39m _read(fname, dtype\u001b[38;5;241m=\u001b[39mdtype, comment\u001b[38;5;241m=\u001b[39mcomment, delimiter\u001b[38;5;241m=\u001b[39mdelimiter,\n\u001b[0;32m   1357\u001b[0m             converters\u001b[38;5;241m=\u001b[39mconverters, skiplines\u001b[38;5;241m=\u001b[39mskiprows, usecols\u001b[38;5;241m=\u001b[39musecols,\n\u001b[0;32m   1358\u001b[0m             unpack\u001b[38;5;241m=\u001b[39munpack, ndmin\u001b[38;5;241m=\u001b[39mndmin, encoding\u001b[38;5;241m=\u001b[39mencoding,\n\u001b[0;32m   1359\u001b[0m             max_rows\u001b[38;5;241m=\u001b[39mmax_rows, quote\u001b[38;5;241m=\u001b[39mquotechar)\n\u001b[0;32m   1361\u001b[0m \u001b[38;5;28;01mreturn\u001b[39;00m arr\n",
      "File \u001b[1;32m~\\anaconda3\\Lib\\site-packages\\numpy\\lib\\npyio.py:975\u001b[0m, in \u001b[0;36m_read\u001b[1;34m(fname, delimiter, comment, quote, imaginary_unit, usecols, skiplines, max_rows, converters, ndmin, unpack, dtype, encoding)\u001b[0m\n\u001b[0;32m    973\u001b[0m     fname \u001b[38;5;241m=\u001b[39m os\u001b[38;5;241m.\u001b[39mfspath(fname)\n\u001b[0;32m    974\u001b[0m \u001b[38;5;28;01mif\u001b[39;00m \u001b[38;5;28misinstance\u001b[39m(fname, \u001b[38;5;28mstr\u001b[39m):\n\u001b[1;32m--> 975\u001b[0m     fh \u001b[38;5;241m=\u001b[39m np\u001b[38;5;241m.\u001b[39mlib\u001b[38;5;241m.\u001b[39m_datasource\u001b[38;5;241m.\u001b[39mopen(fname, \u001b[38;5;124m'\u001b[39m\u001b[38;5;124mrt\u001b[39m\u001b[38;5;124m'\u001b[39m, encoding\u001b[38;5;241m=\u001b[39mencoding)\n\u001b[0;32m    976\u001b[0m     \u001b[38;5;28;01mif\u001b[39;00m encoding \u001b[38;5;129;01mis\u001b[39;00m \u001b[38;5;28;01mNone\u001b[39;00m:\n\u001b[0;32m    977\u001b[0m         encoding \u001b[38;5;241m=\u001b[39m \u001b[38;5;28mgetattr\u001b[39m(fh, \u001b[38;5;124m'\u001b[39m\u001b[38;5;124mencoding\u001b[39m\u001b[38;5;124m'\u001b[39m, \u001b[38;5;124m'\u001b[39m\u001b[38;5;124mlatin1\u001b[39m\u001b[38;5;124m'\u001b[39m)\n",
      "File \u001b[1;32m~\\anaconda3\\Lib\\site-packages\\numpy\\lib\\_datasource.py:193\u001b[0m, in \u001b[0;36mopen\u001b[1;34m(path, mode, destpath, encoding, newline)\u001b[0m\n\u001b[0;32m    156\u001b[0m \u001b[38;5;250m\u001b[39m\u001b[38;5;124;03m\"\"\"\u001b[39;00m\n\u001b[0;32m    157\u001b[0m \u001b[38;5;124;03mOpen `path` with `mode` and return the file object.\u001b[39;00m\n\u001b[0;32m    158\u001b[0m \n\u001b[1;32m   (...)\u001b[0m\n\u001b[0;32m    189\u001b[0m \n\u001b[0;32m    190\u001b[0m \u001b[38;5;124;03m\"\"\"\u001b[39;00m\n\u001b[0;32m    192\u001b[0m ds \u001b[38;5;241m=\u001b[39m DataSource(destpath)\n\u001b[1;32m--> 193\u001b[0m \u001b[38;5;28;01mreturn\u001b[39;00m ds\u001b[38;5;241m.\u001b[39mopen(path, mode, encoding\u001b[38;5;241m=\u001b[39mencoding, newline\u001b[38;5;241m=\u001b[39mnewline)\n",
      "File \u001b[1;32m~\\anaconda3\\Lib\\site-packages\\numpy\\lib\\_datasource.py:533\u001b[0m, in \u001b[0;36mDataSource.open\u001b[1;34m(self, path, mode, encoding, newline)\u001b[0m\n\u001b[0;32m    530\u001b[0m     \u001b[38;5;28;01mreturn\u001b[39;00m _file_openers[ext](found, mode\u001b[38;5;241m=\u001b[39mmode,\n\u001b[0;32m    531\u001b[0m                               encoding\u001b[38;5;241m=\u001b[39mencoding, newline\u001b[38;5;241m=\u001b[39mnewline)\n\u001b[0;32m    532\u001b[0m \u001b[38;5;28;01melse\u001b[39;00m:\n\u001b[1;32m--> 533\u001b[0m     \u001b[38;5;28;01mraise\u001b[39;00m \u001b[38;5;167;01mFileNotFoundError\u001b[39;00m(\u001b[38;5;124mf\u001b[39m\u001b[38;5;124m\"\u001b[39m\u001b[38;5;132;01m{\u001b[39;00mpath\u001b[38;5;132;01m}\u001b[39;00m\u001b[38;5;124m not found.\u001b[39m\u001b[38;5;124m\"\u001b[39m)\n",
      "\u001b[1;31mFileNotFoundError\u001b[0m: data-03-diabetes.csv not found."
     ]
    }
   ],
   "source": [
    "############################################################################\n",
    "### ppt 712 당뇨데이터를 활용한 당뇨 예측 (다중로지스틱회귀) tf 2.x ############\n",
    "############################################################################\n",
    "import tensorflow as tf \n",
    "import numpy as np\n",
    "import matplotlib.pyplot as plt\n",
    "\n",
    "# 당뇨병 데이터 읽어오기\n",
    "xy = np.loadtxt('data-03-diabetes.csv', delimiter=',', dtype=np.float32)\n",
    "# xy = np.loadtxt('/content/drive/MyDrive/Colab Notebooks/data-03-diabetes.csv', delimiter=',', dtype=np.float32)\n",
    "x_data = xy[:, 0:-1]     ## 0~7열 까지 총 8개 x값\n",
    "y_data = xy[:, [-1]]     ## 마지막 열(9열)\n",
    "\n",
    "W = tf.Variable(tf.random.normal([8, 1]), name='weight')\n",
    "b = tf.Variable(tf.random.normal([1]), name='bias')\n",
    "\n",
    "# Hypothesis\n",
    "def hypothesis(W, b) :\n",
    "    return tf.sigmoid(tf.matmul(x_data, W) + b)\n",
    "\n",
    "############################################################################\n",
    "### ppt 712 당뇨데이터를 활용한 당뇨 예측 (다중로지스틱회귀) tf 2.x ############\n",
    "############################################################################\n",
    "\n",
    "def cost(W, b):\n",
    "    return - tf.reduce_mean(y_data * tf.math.log(hypothesis(W, b)) + \n",
    "                           (1 - y_data) * tf.math.log(1 - hypothesis(W, b)))\n",
    "\n",
    "def graph():\n",
    "    import matplotlib as mpl\n",
    "    mpl.rc('font', family='Malgun Gothic') # 한글 설정\n",
    "    mpl.rc('axes', unicode_minus=False)    # 음수부호 설정\n",
    "    fig, ax0 = plt.subplots()\n",
    "    ax1 = ax0.twinx()   # x축을 공유하는 두개의 y축\n",
    "    ax0.set_title(\"학습 회수에 따른 오차(cost)와 accuracy변화\")\n",
    "    ax0.plot(cost_arr, 'r-', label=\"y0\")\n",
    "    ax0.set_ylabel(\"y0\")\n",
    "    ax0.grid(True)\n",
    "    ax1.plot(accuracy_arr, 'b', label=\"y1\")\n",
    "    ax1.set_ylabel(\"y1\")\n",
    "    ax1.grid(False)\n",
    "    ax0.set_xlabel(\"epochs\")\n",
    "    plt.show()\n",
    "\n",
    "opt = tf.keras.optimizers.SGD(learning_rate=0.01)\n",
    "\n",
    "epoch_arr = []\n",
    "cost_arr = []\n",
    "accuracy_arr = []\n",
    "\n",
    "############################################################################\n",
    "### ppt 712 당뇨데이터를 활용한 당뇨 예측 (다중로지스틱회귀) tf 2.x ############\n",
    "############################################################################\n",
    "\n",
    "for step in range(10001): # steps\n",
    "    with tf.GradientTape() as tape:\n",
    "        cost_value = cost(W, b)\n",
    "    gradients = tape.gradient(cost_value, [W, b])\n",
    "    opt.apply_gradients(zip(gradients, [W, b]))\n",
    "    \n",
    "    predicted = tf.cast(hypothesis(W, b) > 0.5, dtype=tf.float64) ## 학습중인 W, b로 예측한 값(텐서)\n",
    "    epoch_arr.append(step)                    # 학습수 누적 array\n",
    "    cost_arr.append(cost_value.numpy())       # cost 누적 array\n",
    "    accuracy = np.mean(y_data == predicted)   # y_data와 계산된 predicted 요소가 일치하는 확률\n",
    "    accuracy_arr.append(accuracy)             # accuracy 누적 array\n",
    "    \n",
    "    if step % 500 == 0: \n",
    "        print(\"epochs=%d, cost=%.8f, W1=%.8f, W2=%.8f,... b=%.8f, accuracy=%.8f\" % \n",
    "              (step, cost_value, W.numpy()[0,0], W.numpy()[1, 0], b.numpy()[0], accuracy)) \n",
    "\n",
    "\n",
    "graph()   # cost와 accuracy 그래프 그리기\n",
    "\n",
    "print(\"========================================================\")\n",
    "print(\"W =\", W.numpy())\n",
    "print(\"b =\", b.numpy()[0])\n",
    "# print(\"y_data =\", y_data)\n",
    "# print(\"sigmoid =\", hypothesis(W, b).numpy())\n",
    "\n",
    "predicted = tf.cast(hypothesis(W, b) > 0.5, dtype=tf.float64)\n",
    "accuracy = np.mean(y_data == predicted) \n",
    "# accuracy = tf.reduce_mean(tf.cast(tf.equal(predicted, y_data), dtype=tf.float64)).numpy()\n",
    "\n",
    "# print(\"predicted =\", predicted.numpy())\n",
    "print(\"Accuracy =\", accuracy)\n"
   ]
  },
  {
   "cell_type": "code",
   "execution_count": 2,
   "id": "6c26bf37-e2e1-4e8d-b661-30c4435a86ea",
   "metadata": {},
   "outputs": [
    {
     "data": {
      "text/plain": [
       "'2.16.1'"
      ]
     },
     "execution_count": 2,
     "metadata": {},
     "output_type": "execute_result"
    }
   ],
   "source": [
    "tf.__version__"
   ]
  },
  {
   "cell_type": "code",
   "execution_count": null,
   "id": "0816adcf-1ba1-44ea-9012-c3e4f2549afd",
   "metadata": {},
   "outputs": [],
   "source": []
  }
 ],
 "metadata": {
  "kernelspec": {
   "display_name": "Python 3 (ipykernel)",
   "language": "python",
   "name": "python3"
  },
  "language_info": {
   "codemirror_mode": {
    "name": "ipython",
    "version": 3
   },
   "file_extension": ".py",
   "mimetype": "text/x-python",
   "name": "python",
   "nbconvert_exporter": "python",
   "pygments_lexer": "ipython3",
   "version": "3.11.5"
  },
  "toc": {
   "base_numbering": 1,
   "nav_menu": {},
   "number_sections": true,
   "sideBar": true,
   "skip_h1_title": false,
   "title_cell": "Table of Contents",
   "title_sidebar": "Contents",
   "toc_cell": false,
   "toc_position": {},
   "toc_section_display": true,
   "toc_window_display": false
  }
 },
 "nbformat": 4,
 "nbformat_minor": 5
}
